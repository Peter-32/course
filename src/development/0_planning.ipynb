{
 "cells": [
  {
   "cell_type": "markdown",
   "id": "3392ba16",
   "metadata": {},
   "source": [
    "**1. Define the task you want the model to make?**\n",
    "\n",
    "Predict the duration of taxi or limousine rides with information known at the start of the taxi or limousine ride.\n",
    "\n",
    "**2. What is the input data?**\n",
    "\n",
    "Pickup time, duration, passengers, rate code, store and forward, location ids.\n",
    "\n",
    "The fields we can use for analysis but not directly for prediction are: trip distance, paymen ttype, payment amounts, whether a toll was used.\n",
    "\n",
    "Primary inputs are traffic at the time of day and the start/end locations.\n",
    "\n",
    "**3. What output will you have?**\n",
    "\n",
    "The predicted duration.\n",
    "\n",
    "**4. Is this regression, classification, or another type?**\n",
    "\n",
    "It is regression.\n",
    "\n",
    "**5. What is your performance metric?**\n",
    "\n",
    "MSE is our performance metric.  A cap to ensure all targets are between 0 minutes and 30 minutes.  So if it falls below 0 it becomes 0 and if it goes above 30 minutes it's capped at 30 minutes.\n",
    "\n",
    "**6. What is your finish line performance metric value? (To know when you're results\n",
    "are good enough to conclude the project)**\n",
    "\n",
    "We know the results are good enough if it predicts with +/- 2 minutes of accuracy on average.\n"
   ]
  },
  {
   "cell_type": "code",
   "execution_count": null,
   "id": "38699d1e",
   "metadata": {},
   "outputs": [],
   "source": []
  }
 ],
 "metadata": {
  "kernelspec": {
   "display_name": "Python 3 (ipykernel)",
   "language": "python",
   "name": "python3"
  },
  "language_info": {
   "codemirror_mode": {
    "name": "ipython",
    "version": 3
   },
   "file_extension": ".py",
   "mimetype": "text/x-python",
   "name": "python",
   "nbconvert_exporter": "python",
   "pygments_lexer": "ipython3",
   "version": "3.10.11"
  }
 },
 "nbformat": 4,
 "nbformat_minor": 5
}
