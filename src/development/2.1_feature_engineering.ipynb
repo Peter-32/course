{
 "cells": [
  {
   "cell_type": "code",
   "execution_count": 72,
   "id": "89a6d6c9",
   "metadata": {},
   "outputs": [],
   "source": [
    "import numpy as np\n",
    "import pandas as pd\n",
    "from collections import defaultdict\n",
    "from backroom import *\n",
    "for cv_split in range(1, 6):\n",
    "    train_df = pd.read_csv(f\"../../data/interim/train_df_2_fold_{cv_split}.csv\")\n",
    "    val_df = pd.read_csv(f\"../../data/interim/val_df_2_fold_{cv_split}.csv\")\n",
    "    test_df = pd.read_csv(f\"../../data/interim/test_df_2.csv\")\n",
    "    datasets = [train_df, val_df, test_df]\n",
    "    def get_risk_score(median_for_all_locations, median, mean, count):\n",
    "        if count < 30:\n",
    "            result = mean*count/30 + median_for_all_locations*(30-count)/30\n",
    "        else:\n",
    "            result = median\n",
    "        return result\n",
    "\n",
    "\n",
    "    # Dual location risk score\n",
    "    median_for_all_locations = train_df.groupby(['PULocationID', 'DOLocationID']).duration_seconds.mean().quantile(0.5)\n",
    "    location_mean_lookup = defaultdict(lambda: median, train_df.groupby(['PULocationID', 'DOLocationID']).duration_seconds.mean().to_dict())\n",
    "    location_median_lookup = defaultdict(lambda: median, train_df.groupby(['PULocationID', 'DOLocationID']).duration_seconds.median().to_dict())\n",
    "    location_count_lookup = defaultdict(lambda: 0, train_df.groupby(['PULocationID', 'DOLocationID']).duration_seconds.count().to_dict())\n",
    "    def get_dual_location_risk_score(PULocationID, DOLocationID):\n",
    "        return get_risk_score(median_for_all_locations, location_median_lookup[(PULocationID, DOLocationID)], location_mean_lookup[(PULocationID, DOLocationID)], location_count_lookup[(PULocationID, DOLocationID)])\n",
    "    for dataset in datasets:\n",
    "        dataset['dual_location_risk_score'] = dataset[['PULocationID', 'DOLocationID']].apply(lambda x: get_dual_location_risk_score(*x), axis='columns')\n",
    "\n",
    "    def get_single_risk_score(column_name):\n",
    "        # Get a simple risk score\n",
    "        median_for_all_locations = train_df.groupby([column_name]).duration_seconds.mean().quantile(0.5)\n",
    "        location_mean_lookup = defaultdict(lambda: median, train_df.groupby([column_name]).duration_seconds.mean().to_dict())\n",
    "        location_median_lookup = defaultdict(lambda: median, train_df.groupby([column_name]).duration_seconds.median().to_dict())\n",
    "        location_count_lookup = defaultdict(lambda: 0, train_df.groupby([column_name]).duration_seconds.count().to_dict())\n",
    "        def get_simple_risk_score(value):\n",
    "            return get_risk_score(median_for_all_locations, location_median_lookup[(value)], location_mean_lookup[(value)], location_count_lookup[(value)])\n",
    "        for dataset in datasets:\n",
    "            dataset[f'{column_name}_risk_score'] = dataset[column_name].apply(lambda x: get_simple_risk_score(str(x)))\n",
    "    for column in ['PULocationID', 'DOLocationID', 'pickup_day_of_week', 'VendorID', 'passenger_count', 'payment_type_1', 'hour', 'closest_hour', 'closest_hour_and_a_half', 'dayofweek_plus_hour', 'dayofweek_plus_closest_hour', 'dayofweek_plus_closest_hour_and_a_half']:\n",
    "        get_single_risk_score(column)\n",
    "    train_df.to_csv(f\"../../data/interim/train_df_3_fold_{cv_split}.csv\", index=False)\n",
    "    val_df.to_csv(f\"../../data/interim/val_df_3_fold_{cv_split}.csv\", index=False)\n",
    "    test_df.to_csv(f\"../../data/interim/test_df_3_fold_{cv_split}.csv\", index=False)\n",
    "    "
   ]
  },
  {
   "cell_type": "code",
   "execution_count": null,
   "id": "56fa486b",
   "metadata": {},
   "outputs": [],
   "source": []
  }
 ],
 "metadata": {
  "kernelspec": {
   "display_name": "Python 3 (ipykernel)",
   "language": "python",
   "name": "python3"
  },
  "language_info": {
   "codemirror_mode": {
    "name": "ipython",
    "version": 3
   },
   "file_extension": ".py",
   "mimetype": "text/x-python",
   "name": "python",
   "nbconvert_exporter": "python",
   "pygments_lexer": "ipython3",
   "version": "3.10.11"
  }
 },
 "nbformat": 4,
 "nbformat_minor": 5
}
