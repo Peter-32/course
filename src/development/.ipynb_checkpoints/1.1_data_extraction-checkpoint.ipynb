{
 "cells": [
  {
   "cell_type": "code",
   "execution_count": 4,
   "id": "efc63019",
   "metadata": {},
   "outputs": [
    {
     "name": "stdout",
     "output_type": "stream",
     "text": [
      "np\n",
      "pd\n",
      "df\n",
      "column\n"
     ]
    }
   ],
   "source": [
    "import gc\n",
    "import numpy as np\n",
    "import pandas as pd\n",
    "from backroom import *\n",
    "df = pd.read_csv(\"../../data/raw/taxi_data.csv\")\n",
    "df.rename(columns={'Unnamed: 0': 'id'}, inplace=True)\n",
    "for column in ['tpep_pickup_datetime','tpep_dropoff_datetime']:\n",
    "    df[column] = pd.to_datetime(df[column])\n",
    "df['is_store_and_fwd'] = df['store_and_fwd_flag'].apply(lambda x: 1 if x == 'Y' else 0)\n",
    "df['pickup_day_of_week'] = df['tpep_pickup_datetime'].apply(lambda x: x.dayofweek)\n",
    "df['pickup_time_of_day'] = df['tpep_pickup_datetime'].apply(lambda x: '00-03' if x.hour < 4 else '04-07' if x.hour < 8 else '08-11' if x.hour < 12 else '12-15' if x.hour < 16 else '16-19' if x.hour < 20 else '20-23')\n",
    "df['duration_diff'] = df['tpep_dropoff_datetime'] - df['tpep_pickup_datetime']\n",
    "df['duration_seconds'] = df['duration_diff'].dt.total_seconds()\n",
    "df.drop(['store_and_fwd_flag', 'duration_diff'], axis='columns', inplace=True)\n",
    "df.to_csv(\"../../data/interim/df.csv\", index=False)\n",
    "free_up_memory(locals())\n"
   ]
  },
  {
   "cell_type": "code",
   "execution_count": 3,
   "id": "e53eda02",
   "metadata": {},
   "outputs": [],
   "source": []
  }
 ],
 "metadata": {
  "kernelspec": {
   "display_name": "Python 3 (ipykernel)",
   "language": "python",
   "name": "python3"
  },
  "language_info": {
   "codemirror_mode": {
    "name": "ipython",
    "version": 3
   },
   "file_extension": ".py",
   "mimetype": "text/x-python",
   "name": "python",
   "nbconvert_exporter": "python",
   "pygments_lexer": "ipython3",
   "version": "3.10.11"
  }
 },
 "nbformat": 4,
 "nbformat_minor": 5
}
