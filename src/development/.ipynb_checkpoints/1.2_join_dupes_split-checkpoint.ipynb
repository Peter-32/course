{
 "cells": [
  {
   "cell_type": "code",
   "execution_count": 4,
   "id": "be5e52de",
   "metadata": {},
   "outputs": [],
   "source": [
    "import gc\n",
    "import hashlib\n",
    "import numpy as np\n",
    "import pandas as pd\n",
    "from backroom import *\n",
    "from sklearn.model_selection import KFold\n",
    "from sklearn.model_selection import train_test_split\n",
    "\n",
    "# Structure the dataset\n",
    "df = pd.read_csv(\"../../data/interim/df.csv\")\n",
    "cheating_fields = df[['id', # UID\n",
    "    'trip_distance', # High analytic value\n",
    "    'RatecodeID', 'fare_amount', 'tolls_amount', 'total_amount', # Medium analytic value\n",
    "    'payment_type', 'extra', 'mta_tax', 'tip_amount', 'improvement_surcharge', 'is_store_and_fwd', # Low analytic value\n",
    "    ]]\n",
    "cheating_fields.to_csv(\"../../data/interim/cheating_fields.csv\")\n",
    "df = df[['id', # UID\n",
    "    'PULocationID', 'DOLocationID', # Location\n",
    "    'tpep_pickup_datetime', 'pickup_day_of_week', 'pickup_time_of_day', # Time\n",
    "    'VendorID', # Low importance metadata\n",
    "    'passenger_count', # Low importance metadata\n",
    "    'duration_seconds' # Target         \n",
    "   ]]\n",
    "assert set(df.columns).intersection(set(cheating_fields.columns)) == {'id'}, \"Cheating fields found remaining in the dataframe\"\n",
    "assert df.id.nunique() == df.shape[0], \"Duplicate fields found remaining in the dataframe\"\n",
    "\n",
    "# Generate a seed and split the dataframe into train_val_df and test_df\n",
    "hasher = hashlib.sha256()\n",
    "hasher.update(df.to_string().encode('utf-8'))\n",
    "hash_value = hasher.hexdigest()\n",
    "seed = int(hash_value[:8], 16)\n",
    "train_val_df, test_df = train_test_split(df, test_size=0.2, random_state=seed)\n",
    "test_df.to_csv(\"../../data/interim/test_df.csv\", index=False)\n",
    "\n",
    "kf = KFold(n_splits=5, shuffle=True, random_state=seed)\n",
    "fold = 1\n",
    "for train_index, val_index in kf.split(train_val_df):\n",
    "    train_df = train_val_df.iloc[train_index]\n",
    "    val_df = train_val_df.iloc[val_index]\n",
    "    train_df.to_csv(f\"../../data/interim/train_df_fold_{fold}.csv\", index=False)\n",
    "    val_df.to_csv(f\"../../data/interim/val_df_fold_{fold}.csv\", index=False)\n",
    "    fold += 1\n",
    "free_up_memory(locals())\n"
   ]
  },
  {
   "cell_type": "code",
   "execution_count": null,
   "id": "1a8573c8",
   "metadata": {},
   "outputs": [],
   "source": []
  }
 ],
 "metadata": {
  "kernelspec": {
   "display_name": "Python 3 (ipykernel)",
   "language": "python",
   "name": "python3"
  },
  "language_info": {
   "codemirror_mode": {
    "name": "ipython",
    "version": 3
   },
   "file_extension": ".py",
   "mimetype": "text/x-python",
   "name": "python",
   "nbconvert_exporter": "python",
   "pygments_lexer": "ipython3",
   "version": "3.10.11"
  }
 },
 "nbformat": 4,
 "nbformat_minor": 5
}
